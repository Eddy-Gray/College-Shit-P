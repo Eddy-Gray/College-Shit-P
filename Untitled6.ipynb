{
  "nbformat": 4,
  "nbformat_minor": 0,
  "metadata": {
    "colab": {
      "name": "Untitled6.ipynb",
      "provenance": [],
      "private_outputs": true,
      "include_colab_link": true
    },
    "kernelspec": {
      "name": "python3",
      "display_name": "Python 3"
    }
  },
  "cells": [
    {
      "cell_type": "markdown",
      "metadata": {
        "id": "view-in-github",
        "colab_type": "text"
      },
      "source": [
        "<a href=\"https://colab.research.google.com/github/Eddy-Gray/College-Shit-P/blob/master/Untitled6.ipynb\" target=\"_parent\"><img src=\"https://colab.research.google.com/assets/colab-badge.svg\" alt=\"Open In Colab\"/></a>"
      ]
    },
    {
      "cell_type": "markdown",
      "metadata": {
        "id": "e8JwVp-S5caM"
      },
      "source": [
        "# Maths Ordinary Differential Equations\n",
        "\n",
        "## Using Symbolic Python (__sympy__) for Calculus\n",
        "\n",
        "\n",
        "__1.__ The first line of  __code cell__ below imports the __sympy__ library.\n",
        "\n",
        "__2.__ The second line imports the **init_printing** function\n",
        "\n",
        "__3.__ The third line activates __init_printing__\n",
        "\n",
        "\n",
        "* To run to cell press the __pay button__ to the left of the cell, or, click on the cell once, then press __SHIFT+ENTER__ to run."
      ]
    },
    {
      "cell_type": "code",
      "metadata": {
        "id": "HMPA-7sU5okn"
      },
      "source": [
        "from sympy import *\n",
        "from sympy import init_printing\n",
        "init_printing()"
      ],
      "execution_count": null,
      "outputs": []
    },
    {
      "cell_type": "markdown",
      "metadata": {
        "id": "ECpb8vkc6nUV"
      },
      "source": [
        "### Declaring a symbol \n",
        "\n",
        "* The cell below creates a symbol called __x__ (left of =). We can call this symbol anythig we want, we will call it $x$."
      ]
    },
    {
      "cell_type": "code",
      "metadata": {
        "id": "IW4QQmtJ5wV0"
      },
      "source": [
        "x=symbols('x')\n",
        "x"
      ],
      "execution_count": null,
      "outputs": []
    },
    {
      "cell_type": "code",
      "metadata": {
        "id": "V8PYZ7_M67V1"
      },
      "source": [
        "f=cosh(5*x)+4*atan(x/5)"
      ],
      "execution_count": null,
      "outputs": []
    },
    {
      "cell_type": "code",
      "metadata": {
        "id": "9hGeEww9IuNB"
      },
      "source": [
        "f"
      ],
      "execution_count": null,
      "outputs": []
    },
    {
      "cell_type": "code",
      "metadata": {
        "id": "_aElo551Jrii"
      },
      "source": [
        "diff(f,x)"
      ],
      "execution_count": null,
      "outputs": []
    },
    {
      "cell_type": "code",
      "metadata": {
        "id": "NPwHzQHlJyx4"
      },
      "source": [
        "g=1/(x**2)+sqrt(x)\n",
        "g"
      ],
      "execution_count": null,
      "outputs": []
    },
    {
      "cell_type": "code",
      "metadata": {
        "id": "zdLVaat1KUul"
      },
      "source": [
        "diff(g,x)"
      ],
      "execution_count": null,
      "outputs": []
    },
    {
      "cell_type": "code",
      "metadata": {
        "id": "__xKOU8vKZ7q"
      },
      "source": [
        "g=log(4*x) + asin(x/4)\n",
        "g"
      ],
      "execution_count": null,
      "outputs": []
    },
    {
      "cell_type": "code",
      "metadata": {
        "id": "ShhKH5gnLYYU"
      },
      "source": [
        "g=4*asin(x/7)-5*exp(-x/4)\n",
        "g"
      ],
      "execution_count": null,
      "outputs": []
    },
    {
      "cell_type": "code",
      "metadata": {
        "id": "ikpABd2sMNjr"
      },
      "source": [
        "diff(g,x)"
      ],
      "execution_count": null,
      "outputs": []
    },
    {
      "cell_type": "code",
      "metadata": {
        "id": "lp2IxPTnNN_2"
      },
      "source": [
        "f=cosh(5*x)+4/(25+x**2)-sin(4*x)\n",
        "f"
      ],
      "execution_count": null,
      "outputs": []
    },
    {
      "cell_type": "code",
      "metadata": {
        "id": "zse77NVePein"
      },
      "source": [
        "integrate(f,x)"
      ],
      "execution_count": null,
      "outputs": []
    },
    {
      "cell_type": "code",
      "metadata": {
        "id": "A1aIHeYzPlBt"
      },
      "source": [
        "g=3/sqrt(16-x**2)+exp(4*x)\n",
        "g"
      ],
      "execution_count": null,
      "outputs": []
    },
    {
      "cell_type": "code",
      "metadata": {
        "id": "cAD7Y7UWQGJu"
      },
      "source": [
        "integrate(g,x)"
      ],
      "execution_count": null,
      "outputs": []
    },
    {
      "cell_type": "code",
      "metadata": {
        "id": "KuiVhyHIQdC3"
      },
      "source": [
        ""
      ],
      "execution_count": null,
      "outputs": []
    }
  ]
}